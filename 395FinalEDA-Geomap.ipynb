{
 "cells": [
  {
   "cell_type": "code",
   "execution_count": null,
   "metadata": {},
   "outputs": [],
   "source": [
    "import pandas as pd\n",
    "import matplotlib.pyplot as plt\n",
    "import numpy as np\n",
    "import yaml\n",
    "#from yaml import CLoader"
   ]
  },
  {
   "cell_type": "code",
   "execution_count": null,
   "metadata": {},
   "outputs": [],
   "source": [
    "%%time\n",
    "\n",
    "with open('./ncbi_dataset/data/data_report.yaml') as f:\n",
    "    genomes = yaml.load(f, Loader=yaml.CLoader)"
   ]
  },
  {
   "cell_type": "code",
   "execution_count": null,
   "metadata": {},
   "outputs": [],
   "source": [
    "pickle.dump(genomes, open('../data/2020_08_18_genomes.pickle', 'w'))"
   ]
  },
  {
   "cell_type": "code",
   "execution_count": null,
   "metadata": {},
   "outputs": [],
   "source": [
    "len(genomes['genomes'])"
   ]
  },
  {
   "cell_type": "code",
   "execution_count": null,
   "metadata": {},
   "outputs": [],
   "source": [
    "dict."
   ]
  },
  {
   "cell_type": "code",
   "execution_count": null,
   "metadata": {},
   "outputs": [],
   "source": [
    "def drop_dict(d, key):\n",
    "    \"\"\"Drops (or pops) a key from a dictionary and (unlike .pop) return the new dictionary\"\"\"\n",
    "    try: \n",
    "        d.pop(key)\n",
    "    except KeyError: \n",
    "        pass #if key is missing, just proceed\n",
    "    return d"
   ]
  },
  {
   "cell_type": "code",
   "execution_count": null,
   "metadata": {},
   "outputs": [],
   "source": [
    "[genome['virus']['sciName'] for genome in genomes['genomes']]"
   ]
  },
  {
   "cell_type": "code",
   "execution_count": null,
   "metadata": {},
   "outputs": [],
   "source": [
    "genomes_noanno = [drop_dict(genome, 'annotation') for genome in genomes['genomes']]"
   ]
  },
  {
   "cell_type": "code",
   "execution_count": null,
   "metadata": {
    "jupyter": {
     "outputs_hidden": true
    }
   },
   "outputs": [],
   "source": [
    "genomes_noanno"
   ]
  },
  {
   "cell_type": "code",
   "execution_count": null,
   "metadata": {},
   "outputs": [],
   "source": [
    "genomes_df = pd.DataFrame(genomes_noanno)\n",
    "\n",
    "genomes_df['sciName'] = genomes_df['virus'].apply(lambda x: x['sciName'])"
   ]
  },
  {
   "cell_type": "code",
   "execution_count": null,
   "metadata": {},
   "outputs": [],
   "source": [
    "genomes_df.groupby('sciName').count().sort_values('accession', ascending=False)"
   ]
  },
  {
   "cell_type": "code",
   "execution_count": null,
   "metadata": {},
   "outputs": [],
   "source": [
    "genomes_df[['length']].plot.hist(bins=30)"
   ]
  },
  {
   "cell_type": "code",
   "execution_count": null,
   "metadata": {},
   "outputs": [],
   "source": [
    "genomes_df[['length']][genomes_df['length'] > 20000].plot.hist(bins=30)"
   ]
  },
  {
   "cell_type": "code",
   "execution_count": null,
   "metadata": {},
   "outputs": [],
   "source": [
    "genomes_df.groupby('sciName').count().plot(y='accession')"
   ]
  },
  {
   "cell_type": "code",
   "execution_count": null,
   "metadata": {},
   "outputs": [],
   "source": [
    "genomes_df.groupby('sciName').count().sort_values('accession', ascending=False).head(10).plot(y='accession', kind='barh')"
   ]
  },
  {
   "cell_type": "code",
   "execution_count": null,
   "metadata": {},
   "outputs": [],
   "source": [
    "\n",
    "\n",
    "genomes_df['location'].dropna().apply(lambda x: x['geographicLocation'])"
   ]
  },
  {
   "cell_type": "code",
   "execution_count": null,
   "metadata": {},
   "outputs": [],
   "source": [
    "import geopandas"
   ]
  },
  {
   "cell_type": "code",
   "execution_count": null,
   "metadata": {},
   "outputs": [],
   "source": [
    "from geopy.geocoders import GeocodeFarm\n",
    "\n",
    "import geopy"
   ]
  },
  {
   "cell_type": "code",
   "execution_count": null,
   "metadata": {},
   "outputs": [],
   "source": [
    "geolocator= GeocodeFarm()"
   ]
  },
  {
   "cell_type": "code",
   "execution_count": null,
   "metadata": {},
   "outputs": [],
   "source": [
    "example = geolocator.geocode('China: Hong Kong, Prince of Wales Hospital')\n",
    "\n",
    "example"
   ]
  },
  {
   "cell_type": "code",
   "execution_count": null,
   "metadata": {},
   "outputs": [],
   "source": [
    "example.latitude"
   ]
  },
  {
   "cell_type": "code",
   "execution_count": null,
   "metadata": {},
   "outputs": [],
   "source": [
    "genomes_df['location'].dropna().apply(lambda x: x['geographicLocation']).unique()"
   ]
  },
  {
   "cell_type": "code",
   "execution_count": null,
   "metadata": {},
   "outputs": [],
   "source": [
    "from geopy.geocoders import Nominatim\n",
    "geolocator = Nominatim(user_agent=\"coronavirus_genome_mapper\")\n",
    "\n",
    "from geopy.extra.rate_limiter import RateLimiter\n",
    "geocode = RateLimiter(geolocator.geocode, min_delay_seconds=1)\n",
    "\n",
    "\n",
    "\n"
   ]
  },
  {
   "cell_type": "code",
   "execution_count": null,
   "metadata": {},
   "outputs": [],
   "source": [
    "#cache = dict()\n",
    "#counter = 0\n",
    "#cached_counter = 0\n",
    "\n",
    "def cached_geocode(location):\n",
    "    global counter, cached_counter, cache\n",
    "    if (counter % 100) == 0:\n",
    "        print(f\"geocoded {counter} locations ({cached_counter/max(1, counter)}% cached)\")\n",
    "    counter += 1\n",
    "    if location in cache:\n",
    "        cached_counter += 1\n",
    "        return cache[location]\n",
    "    else:\n",
    "        cache[location] = geocode(location)\n",
    "        return cache[location]"
   ]
  },
  {
   "cell_type": "code",
   "execution_count": null,
   "metadata": {},
   "outputs": [],
   "source": [
    "cached_geocode(\"chicago\")"
   ]
  },
  {
   "cell_type": "code",
   "execution_count": null,
   "metadata": {},
   "outputs": [],
   "source": [
    "cached_counter"
   ]
  },
  {
   "cell_type": "code",
   "execution_count": null,
   "metadata": {},
   "outputs": [],
   "source": [
    "import functools"
   ]
  },
  {
   "cell_type": "code",
   "execution_count": null,
   "metadata": {},
   "outputs": [],
   "source": [
    "genomes_df_top = genomes_df.head(10)"
   ]
  },
  {
   "cell_type": "code",
   "execution_count": null,
   "metadata": {},
   "outputs": [],
   "source": [
    "genomes_df['point'] = genomes_df['location'].apply(lambda loc: cached_geocode(loc['geographicLocation'] if type(loc) != float else None))"
   ]
  },
  {
   "cell_type": "code",
   "execution_count": null,
   "metadata": {},
   "outputs": [],
   "source": [
    "genomes_df"
   ]
  },
  {
   "cell_type": "code",
   "execution_count": null,
   "metadata": {},
   "outputs": [],
   "source": [
    "hasattr"
   ]
  },
  {
   "cell_type": "code",
   "execution_count": null,
   "metadata": {},
   "outputs": [],
   "source": [
    "def get_point(loc):\n",
    "    try:\n",
    "        return (loc.latitude, loc.longitude, 0)\n",
    "    except AttributeError:\n",
    "        return None"
   ]
  },
  {
   "cell_type": "code",
   "execution_count": null,
   "metadata": {},
   "outputs": [],
   "source": [
    " genomes_df['point'].apply(get_point)"
   ]
  },
  {
   "cell_type": "code",
   "execution_count": null,
   "metadata": {},
   "outputs": [],
   "source": [
    "genomes_df['point2'] = genomes_df['point'].apply(get_point)\n",
    "\n",
    "genomes_coords = pd.DataFrame(genomes_df['point2'].to_list())\n",
    "\n",
    "genomes_coords.columns = [\"lat\", 'lon', 'elevation']\n",
    "\n",
    "genomes_df2 = pd.concat([genomes_df, genomes_coords], axis=1)"
   ]
  },
  {
   "cell_type": "code",
   "execution_count": null,
   "metadata": {},
   "outputs": [],
   "source": [
    "genomes_df2.to_csv(\"../output/2020_08_19_Genomes Geocoded.csv\")"
   ]
  },
  {
   "cell_type": "code",
   "execution_count": null,
   "metadata": {},
   "outputs": [],
   "source": [
    "def lon_to_web_mercator(lon):\n",
    "    k = 6378137\n",
    "    return lon * (k * np.pi / 180.0)\n",
    "\n",
    "\n",
    "def lat_to_web_mercator(lat):\n",
    "    k = 6378137\n",
    "    return np.log(np.tan((90 + lat) * np.pi / 360.0)) * k\n",
    "\n",
    "\n",
    "def wgs84_to_web_mercator(df, lon=\"lon\", lat=\"lat\"):\n",
    "    \"\"\"Converts decimal longitude/latitude to Web Mercator format\"\"\"\n",
    "    k = 6378137\n",
    "    df[\"lon\"] = df[lon] * (k * np.pi / 180.0)\n",
    "    df[\"lat\"] = np.log(np.tan((90 + df[lat]) * np.pi / 360.0)) * k\n",
    "    return df\n"
   ]
  },
  {
   "cell_type": "code",
   "execution_count": null,
   "metadata": {
    "scrolled": true
   },
   "outputs": [],
   "source": [
    "locations = pd.DataFrame(dict(lat=[ 30.29,  30.20,  30.29],\n",
    "              lon=[-97.70, -97.74, -97.78]))"
   ]
  },
  {
   "cell_type": "code",
   "execution_count": null,
   "metadata": {},
   "outputs": [],
   "source": []
  },
  {
   "cell_type": "code",
   "execution_count": null,
   "metadata": {},
   "outputs": [],
   "source": [
    "#with pd.option_context('display.max_rows', 10**6):\n",
    "#pd.set_option('display.max_rows', None)\n",
    "top_ten = genomes_df2.groupby('sciName').count().sort_values('accession').tail(10)\n",
    "\n",
    "top_ten = top_ten.index.to_list()\n"
   ]
  },
  {
   "cell_type": "code",
   "execution_count": null,
   "metadata": {},
   "outputs": [],
   "source": [
    "top_ten"
   ]
  },
  {
   "cell_type": "code",
   "execution_count": null,
   "metadata": {},
   "outputs": [],
   "source": [
    "from bokeh.palettes import Set3  \n",
    "\n",
    "\n",
    "Set3[]"
   ]
  },
  {
   "cell_type": "code",
   "execution_count": null,
   "metadata": {},
   "outputs": [],
   "source": [
    "pd.set_option('display.max_rows', 100)\n"
   ]
  },
  {
   "cell_type": "code",
   "execution_count": null,
   "metadata": {},
   "outputs": [],
   "source": [
    "from bokeh.palettes import Spectral11\n",
    "factor_cmap('type', palette=Spectral11, factors=top_ten)"
   ]
  },
  {
   "cell_type": "code",
   "execution_count": null,
   "metadata": {},
   "outputs": [],
   "source": [
    "from bokeh.plotting import figure, output_file, output_notebook, show\n",
    "from bokeh.tile_providers import CARTODBPOSITRON, get_provider\n",
    "from bokeh.models import ColumnDataSource\n",
    "from bokeh.transform import factor_cmap\n",
    "from bokeh.palettes import Spectral11\n",
    "\n",
    "#output_file(\"tile.html\")\n",
    "output_notebook()\n",
    "\n",
    "tile_provider = get_provider(CARTODBPOSITRON)\n",
    "\n",
    "# range bounds supplied in web mercator coordinates\n",
    "p = figure(x_range=(-2000000, 6000000), y_range=(-1000000, 7000000),\n",
    "           x_axis_type=\"mercator\", y_axis_type=\"mercator\")\n",
    "p.add_tile(tile_provider)\n",
    "\n",
    "\n",
    "#source = ColumnDataSource(\n",
    "#    data=wgs84_to_web_mercator(locations))\n",
    "\n",
    "p.circle(x=\"lon\", y=\"lat\", size=15, \n",
    "         #fill_color=\"blue\", \n",
    "         fill_color=factor_cmap('sciName', palette=Spectral11, factors=top_ten),\n",
    "         fill_alpha=0.1, source=wgs84_to_web_mercator(genomes_df2.loc[:,[\"lat\", \"lon\", 'sciName']]))\n",
    "\n",
    "\n",
    "#output_notebook(p)\n",
    "show(p)\n"
   ]
  },
  {
   "cell_type": "code",
   "execution_count": null,
   "metadata": {},
   "outputs": [],
   "source": [
    "genomes_df2.head()"
   ]
  },
  {
   "cell_type": "code",
   "execution_count": null,
   "metadata": {},
   "outputs": [],
   "source": [
    "genomes_df2.loc[:,[\"lat\", \"lon\"]]"
   ]
  },
  {
   "cell_type": "code",
   "execution_count": null,
   "metadata": {},
   "outputs": [],
   "source": [
    "eval(\"\"\"{'taxId': 9606, 'sciName': 'Homo sapiens', 'lineage': [{'name': 'cellular organisms', 'taxId': 131567}, {'name': 'Eukaryota (eucaryotes)', 'taxId': 2759}, {'name': 'Opisthokonta', 'taxId': 33154}, {'name': 'Metazoa (metazoans)', 'taxId': 33208}, {'name': 'Eumetazoa', 'taxId': 6072}, {'name': 'Bilateria', 'taxId': 33213}, {'name': 'Deuterostomia (deuterostomes)', 'taxId': 33511}, {'name': 'Chordata (chordates)', 'taxId': 7711}, {'name': 'Craniata', 'taxId': 89593}, {'name': 'Vertebrata (vertebrates)', 'taxId': 7742}, {'name': 'Gnathostomata (jawed vertebrates)', 'taxId': 7776}, {'name': 'Teleostomi', 'taxId': 117570}, {'name': 'Euteleostomi (bony vertebrates)', 'taxId': 117571}, {'name': 'Sarcopterygii', 'taxId': 8287}, {'name': 'Dipnotetrapodomorpha', 'taxId': 1338369}, {'name': 'Tetrapoda (tetrapods)', 'taxId': 32523}, {'name': 'Amniota (amniotes)', 'taxId': 32524}, {'name': 'Mammalia (mammals)', 'taxId': 40674}, {'name': 'Theria', 'taxId': 32525}, {'name': 'Eutheria (placentals)', 'taxId': 9347}, {'name': 'Boreoeutheria', 'taxId': 1437010}, {'name': 'Euarchontoglires', 'taxId': 314146}, {'name': 'Primates', 'taxId': 9443}, {'name': 'Haplorrhini', 'taxId': 376913}, {'name': 'Simiiformes', 'taxId': 314293}, {'name': 'Catarrhini', 'taxId': 9526}, {'name': 'Hominoidea (apes)', 'taxId': 314295}, {'name': 'Hominidae (great apes)', 'taxId': 9604}, {'name': 'Homininae', 'taxId': 207598}, {'name': 'Homo (humans)', 'taxId': 9605}, {'name': 'Homo sapiens (human)', 'taxId': 9606}]}\"\"\")"
   ]
  },
  {
   "cell_type": "code",
   "execution_count": null,
   "metadata": {},
   "outputs": [],
   "source": []
  }
 ],
 "metadata": {
  "kernelspec": {
   "display_name": "Python 3",
   "language": "python",
   "name": "python3"
  },
  "language_info": {
   "codemirror_mode": {
    "name": "ipython",
    "version": 3
   },
   "file_extension": ".py",
   "mimetype": "text/x-python",
   "name": "python",
   "nbconvert_exporter": "python",
   "pygments_lexer": "ipython3",
   "version": "3.7.6"
  }
 },
 "nbformat": 4,
 "nbformat_minor": 4
}
