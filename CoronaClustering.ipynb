{
 "cells": [
  {
   "cell_type": "code",
   "execution_count": 268,
   "metadata": {},
   "outputs": [],
   "source": [
    "import pandas as pd\n",
    "import numpy as np\n",
    "import Bio as bio\n",
    "import seaborn as sns"
   ]
  },
  {
   "cell_type": "code",
   "execution_count": 269,
   "metadata": {},
   "outputs": [],
   "source": [
    "dummygenes = pd.read_csv('dummygenes.csv')\n",
    "dummygenes.index = dummygenes[\"0\"]\n",
    "dummygenes.drop(columns = '0', inplace = True)"
   ]
  },
  {
   "cell_type": "code",
   "execution_count": 387,
   "metadata": {},
   "outputs": [
    {
     "data": {
      "text/plain": [
       "Index(['sequences'], dtype='object')"
      ]
     },
     "execution_count": 387,
     "metadata": {},
     "output_type": "execute_result"
    }
   ],
   "source": [
    "genomes = pd.read_csv('./genomes.csv')\n",
    "genomes.index = genomes[\"0\"]\n",
    "genomes.drop(columns = [\"0\", \"Unnamed: 0\"], inplace = True)\n",
    "genomes.columns"
   ]
  },
  {
   "cell_type": "markdown",
   "metadata": {},
   "source": [
    "from scipy.cluster.hierarchy import ward\n",
    "import matplotlib.pyplot as plt\n",
    "\n",
    "#Determine ward distances between genetic sequences\n",
    "linkage_array = ward(dummygenes[0::])\n",
    "\n",
    "#Plot the dendrogram depicting evolutionary distance:\n",
    "dendrogram(linkage_array)\n",
    "plt.xlabel(\"Sample index\")\n",
    "plt.ylabel(\"Cluster distance\")"
   ]
  },
  {
   "cell_type": "code",
   "execution_count": 270,
   "metadata": {},
   "outputs": [],
   "source": [
    "from sklearn.cluster import KMeans\n",
    "kmeans = KMeans(n_clusters=5, random_state=42).fit(dummygenes[0::])\n",
    "klabels = pd.DataFrame(index = dummygenes.index, data = kmeans.labels_)"
   ]
  },
  {
   "cell_type": "code",
   "execution_count": 332,
   "metadata": {},
   "outputs": [],
   "source": [
    "#Function to classify.\n",
    "#Takes either two strings or two lists of strings.\n",
    "\n",
    "from Bio import SeqIO\n",
    "import pandas as pd\n",
    "def GenomeFormatter(genomes):\n",
    "    index = genomes.index\n",
    "    #Values replaced with dummies:\n",
    "    \n",
    "    #list of valid inputs:\n",
    "    atcg = [\"A\", \"T\", \"C\", \"G\"]\n",
    "    #Splitting into separate columns:\n",
    "    genomes = pd.DataFrame(genomes['Sequence'].apply(lambda x: x+(\"0\" * (31775-len(x)))))\n",
    "    genomes = pd.DataFrame(genomes['Sequence'].apply(lambda x: list(x)))\n",
    "    genomes = pd.DataFrame(genomes['Sequence'].to_list())\n",
    "    \n",
    "    #dropping \"noise\" from sequencing:\n",
    "    genomes[~genomes.isin(atcg)] = None\n",
    "    genomes.fillna(0, inplace = True)\n",
    "    \n",
    "    #replacing each nucleotide with its respective dummy value:\n",
    "    for n in range(0, len(atcg)):\n",
    "        genomes.replace(atcg[n], (n+1), inplace = True)\n",
    "    \n",
    "    #Filling extra space in with kmeans.expected_n_features with 0.\n",
    "    #TODO: truncate if it's too long.\n",
    "    genomes.index = index\n",
    "    appended = pd.concat([dummygenes.head(0), genomes]).fillna(0)\n",
    "    return genomes"
   ]
  },
  {
   "cell_type": "code",
   "execution_count": 333,
   "metadata": {},
   "outputs": [],
   "source": [
    "def FastaReader(fastafile):\n",
    "    from Bio import SeqIO\n",
    "    with open(fastafile) as fasta_file:  # Will close handle cleanly\n",
    "        identifiers = []\n",
    "        lengths = []\n",
    "        seqs = []\n",
    "        for seq_record in SeqIO.parse(fasta_file, 'fasta'):  # (generator)\n",
    "            identifiers.append(seq_record.id)\n",
    "            seqs.append(seq_record.upper().seq)\n",
    "        df = pd.DataFrame(identifiers)\n",
    "        df[\"Sequence\"] = seqs\n",
    "        df.index = df[0]\n",
    "        df.drop(columns = 0, inplace = True)\n",
    "    return df"
   ]
  },
  {
   "cell_type": "code",
   "execution_count": 409,
   "metadata": {},
   "outputs": [],
   "source": [
    "#Genome comparison without Numpy - slow but functional\n",
    "import difflib\n",
    "def genomecompare (y):\n",
    "    tree = genomes['sequences'].apply(lambda x: difflib.SequenceMatcher(None, str(y), str(x)).ratio())\n",
    "    return pd.DataFrame(tree)\n",
    "#.sort_values(0, ascending = False)"
   ]
  },
  {
   "cell_type": "code",
   "execution_count": 410,
   "metadata": {},
   "outputs": [],
   "source": [
    "#Takes dataframe from CoronaClass and returns dataframe of cluster \n",
    "#TODO: Return 5 closest matches.\n",
    "#Takes a filepath containing fasta-formatted genomes and returns classifications for each:\n",
    "def CoronaClassifier(filepath):\n",
    "    #Reading file from fasta format into dataframe\n",
    "    df = FastaReader(filepath)\n",
    "    \n",
    "    #Comparing genome against previously found samples:\n",
    "    tree = genomecompare(str(df[\"Sequence\"][0]))\n",
    "    \n",
    "    #Formatting for Kmeans:\n",
    "    formatted = GenomeFormatter(df)\n",
    "    \n",
    "    #Classify input genomes:\n",
    "    result = kmeans.predict(formatted.apply(lambda x: list(x)))\n",
    "\n",
    "    return result, tree"
   ]
  },
  {
   "cell_type": "code",
   "execution_count": 411,
   "metadata": {},
   "outputs": [
    {
     "data": {
      "text/html": [
       "<div>\n",
       "<style scoped>\n",
       "    .dataframe tbody tr th:only-of-type {\n",
       "        vertical-align: middle;\n",
       "    }\n",
       "\n",
       "    .dataframe tbody tr th {\n",
       "        vertical-align: top;\n",
       "    }\n",
       "\n",
       "    .dataframe thead th {\n",
       "        text-align: right;\n",
       "    }\n",
       "</style>\n",
       "<table border=\"1\" class=\"dataframe\">\n",
       "  <thead>\n",
       "    <tr style=\"text-align: right;\">\n",
       "      <th></th>\n",
       "      <th>sequences</th>\n",
       "    </tr>\n",
       "    <tr>\n",
       "      <th>0</th>\n",
       "      <th></th>\n",
       "    </tr>\n",
       "  </thead>\n",
       "  <tbody>\n",
       "    <tr>\n",
       "      <td>AC_000192.1</td>\n",
       "      <td>0.000000</td>\n",
       "    </tr>\n",
       "    <tr>\n",
       "      <td>AF095702.1</td>\n",
       "      <td>0.000000</td>\n",
       "    </tr>\n",
       "    <tr>\n",
       "      <td>AF220295.1</td>\n",
       "      <td>0.000125</td>\n",
       "    </tr>\n",
       "    <tr>\n",
       "      <td>AF353511.1</td>\n",
       "      <td>0.000000</td>\n",
       "    </tr>\n",
       "    <tr>\n",
       "      <td>AF391541.1</td>\n",
       "      <td>0.000125</td>\n",
       "    </tr>\n",
       "    <tr>\n",
       "      <td>...</td>\n",
       "      <td>...</td>\n",
       "    </tr>\n",
       "    <tr>\n",
       "      <td>MT831673.1</td>\n",
       "      <td>0.000000</td>\n",
       "    </tr>\n",
       "    <tr>\n",
       "      <td>MT831674.1</td>\n",
       "      <td>0.000000</td>\n",
       "    </tr>\n",
       "    <tr>\n",
       "      <td>MT831675.1</td>\n",
       "      <td>0.000000</td>\n",
       "    </tr>\n",
       "    <tr>\n",
       "      <td>MT831676.1</td>\n",
       "      <td>0.000000</td>\n",
       "    </tr>\n",
       "    <tr>\n",
       "      <td>MT831677.1</td>\n",
       "      <td>0.000000</td>\n",
       "    </tr>\n",
       "  </tbody>\n",
       "</table>\n",
       "<p>12487 rows × 1 columns</p>\n",
       "</div>"
      ],
      "text/plain": [
       "             sequences\n",
       "0                     \n",
       "AC_000192.1   0.000000\n",
       "AF095702.1    0.000000\n",
       "AF220295.1    0.000125\n",
       "AF353511.1    0.000000\n",
       "AF391541.1    0.000125\n",
       "...                ...\n",
       "MT831673.1    0.000000\n",
       "MT831674.1    0.000000\n",
       "MT831675.1    0.000000\n",
       "MT831676.1    0.000000\n",
       "MT831677.1    0.000000\n",
       "\n",
       "[12487 rows x 1 columns]"
      ]
     },
     "execution_count": 411,
     "metadata": {},
     "output_type": "execute_result"
    }
   ],
   "source": [
    "#CoronaClassifier('./test.txt')\n",
    "genomecompare(str(FastaReader('./test.txt')[\"Sequence\"][0]))\n",
    "#genomecompare(FastaReader('./test.txt')[\"Sequence\"])"
   ]
  },
  {
   "cell_type": "code",
   "execution_count": null,
   "metadata": {},
   "outputs": [],
   "source": [
    "result, tree = CoronaClassifier('./test.txt')"
   ]
  },
  {
   "cell_type": "code",
   "execution_count": null,
   "metadata": {},
   "outputs": [],
   "source": [
    "result"
   ]
  },
  {
   "cell_type": "code",
   "execution_count": null,
   "metadata": {},
   "outputs": [],
   "source": [
    "tree"
   ]
  },
  {
   "cell_type": "code",
   "execution_count": null,
   "metadata": {},
   "outputs": [],
   "source": []
  }
 ],
 "metadata": {
  "kernelspec": {
   "display_name": "Python 3",
   "language": "python",
   "name": "python3"
  },
  "language_info": {
   "codemirror_mode": {
    "name": "ipython",
    "version": 3
   },
   "file_extension": ".py",
   "mimetype": "text/x-python",
   "name": "python",
   "nbconvert_exporter": "python",
   "pygments_lexer": "ipython3",
   "version": "3.7.4"
  }
 },
 "nbformat": 4,
 "nbformat_minor": 2
}
